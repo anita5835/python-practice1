{
 "cells": [
  {
   "cell_type": "code",
   "execution_count": 2,
   "id": "72016c79-12a6-4275-ad70-33ec9fd77400",
   "metadata": {},
   "outputs": [
    {
     "name": "stdin",
     "output_type": "stream",
     "text": [
      " 100\n"
     ]
    },
    {
     "name": "stdout",
     "output_type": "stream",
     "text": [
      "80.0\n"
     ]
    }
   ],
   "source": [
    "#1\n",
    "final_price=0\n",
    "price=int(input())\n",
    "if price==100:\n",
    " final_price=price-(20/100*100)\n",
    " print(final_price)\n",
    "else:\n",
    "  final_price=price-(10/100*100)\n",
    "  print(final_price)"
   ]
  },
  {
   "cell_type": "code",
   "execution_count": 3,
   "id": "31f631d5-e29a-4418-8512-645fcc532d8f",
   "metadata": {},
   "outputs": [
    {
     "name": "stdin",
     "output_type": "stream",
     "text": [
      " 50\n",
      " 50\n",
      " 50\n",
      " 50\n",
      " 50\n"
     ]
    },
    {
     "name": "stdout",
     "output_type": "stream",
     "text": [
      "Fail\n"
     ]
    }
   ],
   "source": [
    "#2\n",
    "a=float(input())\n",
    "b=float(input())\n",
    "c=float(input())\n",
    "d=float(input())\n",
    "e=float(input())\n",
    "avg=(a+b+c+d+e)/5\n",
    "if avg>=90:\n",
    "  print(\"A\")\n",
    "elif avg>=80 and avg<89:\n",
    "  print(\"B\")\n",
    "elif avg>=70 and avg<79:\n",
    "  print(\"C\")\n",
    "elif avg<70:\n",
    "  print(\"Fail\")\n"
   ]
  },
  {
   "cell_type": "code",
   "execution_count": 4,
   "id": "859629a7-f4bc-4edc-bef4-902c517328a3",
   "metadata": {},
   "outputs": [
    {
     "name": "stdin",
     "output_type": "stream",
     "text": [
      " 71\n"
     ]
    },
    {
     "name": "stdout",
     "output_type": "stream",
     "text": [
      "overheating\n"
     ]
    }
   ],
   "source": [
    "#3\n",
    "temp=float(input())\n",
    "if temp>70:\n",
    "  print(\"overheating\")\n",
    "else:\n",
    "  print(\"normal\")"
   ]
  },
  {
   "cell_type": "code",
   "execution_count": 6,
   "id": "7400bf60-88d6-40eb-b6fb-75e2f7ca6c87",
   "metadata": {},
   "outputs": [
    {
     "name": "stdin",
     "output_type": "stream",
     "text": [
      " 18\n"
     ]
    },
    {
     "name": "stdout",
     "output_type": "stream",
     "text": [
      "eligible for driving license\n"
     ]
    }
   ],
   "source": [
    "#4\n",
    "age=int(input())\n",
    "if age>=18:\n",
    "  print(\"eligible for driving license\")\n",
    "else:\n",
    "  print(\"not eligible\")"
   ]
  },
  {
   "cell_type": "code",
   "execution_count": null,
   "id": "8db855c8-ec54-486e-960c-ec3cfa6e2c74",
   "metadata": {},
   "outputs": [],
   "source": [
    "#5\n",
    "list=[2,3,4,5,6,7]\n",
    "sum=0\n",
    "for i in list:\n",
    "    sum+=i\n",
    "print(sum)"
   ]
  },
  {
   "cell_type": "code",
   "execution_count": 7,
   "id": "9aa66d2a-17e0-4cec-bbb7-98619508ffa7",
   "metadata": {},
   "outputs": [
    {
     "name": "stdout",
     "output_type": "stream",
     "text": [
      "1\n",
      "3\n",
      "5\n",
      "7\n",
      "9\n",
      "11\n",
      "13\n",
      "15\n",
      "17\n",
      "19\n",
      "21\n",
      "23\n",
      "25\n",
      "27\n",
      "29\n",
      "31\n",
      "33\n",
      "35\n",
      "37\n",
      "39\n",
      "41\n",
      "43\n",
      "45\n",
      "47\n",
      "49\n"
     ]
    }
   ],
   "source": [
    "#6\n",
    "for i in range(1,51):\n",
    "  if i%2!=0:\n",
    "    print(i)"
   ]
  },
  {
   "cell_type": "code",
   "execution_count": null,
   "id": "4f8041d7-6439-47cb-b584-996df12406f9",
   "metadata": {},
   "outputs": [],
   "source": [
    "#7\n",
    "list1=[\"Anita\",\"Lakshita\",\"Nikita\"]\n",
    "list2=[30,25,20]\n",
    "for i,j in list1,list2:\n",
    " if j==30:\n",
    "     print(j)"
   ]
  },
  {
   "cell_type": "code",
   "execution_count": 9,
   "id": "6619cce1-a721-46bf-a57b-bfc06cee9c9e",
   "metadata": {},
   "outputs": [
    {
     "name": "stdout",
     "output_type": "stream",
     "text": [
      "[1, 2, 3, 4, 5, 7]\n",
      "[1, 2, 4, 5, 7]\n"
     ]
    }
   ],
   "source": [
    "#12\n",
    "list1=[1,2,3,4,5]\n",
    "list1.append(7)\n",
    "print(list1)\n",
    "list1.remove(3)\n",
    "print(list1)"
   ]
  },
  {
   "cell_type": "code",
   "execution_count": null,
   "id": "98aad18c-6821-4144-afe1-234803b60f8f",
   "metadata": {},
   "outputs": [],
   "source": [
    "#9\n",
    "def si(p,r,t):\n",
    "    print((p*r*t)/100)\n",
    "si(1000,2,2)"
   ]
  },
  {
   "cell_type": "code",
   "execution_count": 23,
   "id": "a71793db-433d-4f48-9cc0-e12e5c77bad3",
   "metadata": {},
   "outputs": [
    {
     "name": "stdout",
     "output_type": "stream",
     "text": [
      "9000\n"
     ]
    }
   ],
   "source": [
    "#13\n",
    "max=list[0]\n",
    "list=[1000,9000,3000,5000,7000,8000,2000]\n",
    "for i in list:\n",
    " if i>max:\n",
    "     max=i\n",
    "     print(max)"
   ]
  },
  {
   "cell_type": "code",
   "execution_count": null,
   "id": "cd657fb8-2826-440b-822a-f89c1a088df8",
   "metadata": {},
   "outputs": [],
   "source": [
    "#14\n",
    "tuple=((\"abc\","
   ]
  },
  {
   "cell_type": "code",
   "execution_count": 29,
   "id": "6fd8a8b2-fafb-423f-b3b4-f395487b042e",
   "metadata": {},
   "outputs": [
    {
     "name": "stdin",
     "output_type": "stream",
     "text": [
      " anita\n",
      " a\n"
     ]
    },
    {
     "name": "stdout",
     "output_type": "stream",
     "text": [
      "{'anita': 'a'}\n"
     ]
    }
   ],
   "source": [
    "#17\n",
    "a=input()\n",
    "b=input()\n",
    "dict={a:b}\n",
    "print(dict)"
   ]
  },
  {
   "cell_type": "code",
   "execution_count": null,
   "id": "975495f3-7274-41ec-9c1e-0eb9c1d749c4",
   "metadata": {},
   "outputs": [],
   "source": []
  }
 ],
 "metadata": {
  "kernelspec": {
   "display_name": "Python 3 (ipykernel)",
   "language": "python",
   "name": "python3"
  },
  "language_info": {
   "codemirror_mode": {
    "name": "ipython",
    "version": 3
   },
   "file_extension": ".py",
   "mimetype": "text/x-python",
   "name": "python",
   "nbconvert_exporter": "python",
   "pygments_lexer": "ipython3",
   "version": "3.13.0"
  }
 },
 "nbformat": 4,
 "nbformat_minor": 5
}
